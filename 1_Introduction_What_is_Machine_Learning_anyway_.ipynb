{
  "nbformat": 4,
  "nbformat_minor": 0,
  "metadata": {
    "colab": {
      "name": "1- Introduction - What is Machine Learning anyway_.ipynb",
      "version": "0.3.2",
      "provenance": []
    },
    "language_info": {
      "codemirror_mode": {
        "name": "ipython",
        "version": 3
      },
      "file_extension": ".py",
      "mimetype": "text/x-python",
      "name": "python",
      "nbconvert_exporter": "python",
      "pygments_lexer": "ipython3",
      "version": "3.7.1"
    },
    "kernelspec": {
      "display_name": "Python 3",
      "language": "python",
      "name": "python3"
    }
  },
  "cells": [
    {
      "cell_type": "markdown",
      "metadata": {
        "id": "eINN7zeSZxGg",
        "colab_type": "text"
      },
      "source": [
        "# 1. Introduction\n",
        "\n",
        "In this notebook, we will try to gain an intuitive understanding of how machine learning works.\n",
        "\n",
        "There are two ways to approach learning. One is a bottom-up approach where we try to understand the minutiae of theory before we solve problems using the theory. The other approach is a top-down approach where we try to intuitively understand application by *doing*.\n",
        "\n",
        "These two approaches are explained by Jeremy Howard in his fast.ai course.\n",
        "\n",
        "When you want to learn a sport, you do not start by understanding gravitational force, projectile motion, friction, the principle of the lever etc. You start by trying to play the sport.\n",
        "\n",
        "In this notebook, we will try a bit of both. First, let's play."
      ]
    },
    {
      "cell_type": "code",
      "metadata": {
        "id": "1YPKG-YhZxGl",
        "colab_type": "code",
        "colab": {}
      },
      "source": [
        "# Initialization stuff\n",
        "%matplotlib inline\n",
        "import numpy as np\n",
        "import random\n",
        "import torch\n",
        "import matplotlib.pyplot as plt\n",
        "plt.style.use('ggplot')\n",
        "# For reproducibility\n",
        "random.seed(0)\n",
        "torch.manual_seed(0)\n",
        "np.random.seed(0)"
      ],
      "execution_count": 0,
      "outputs": []
    },
    {
      "cell_type": "markdown",
      "metadata": {
        "id": "2scgtOf7ZxG0",
        "colab_type": "text"
      },
      "source": [
        "# What is Machine Learning anyway?\n",
        "\n",
        "Machine Learning is a lot of things, but for the purpose of this exercise, let's just say that Machine Learning is an automated way of learning a method that, given an input, produces an output that makes sense.\n",
        "\n",
        "### A game of high or low\n",
        "\n",
        "Imagine if I asked you to think of a number between 1 and 100. It is my job to guess the number by asking you questions. A sample interaction might go like this:\n",
        "\n",
        "**Me:** Think of a number between 1 and 100.\n",
        "\n",
        "**You:** (thinks of 27 as the number) Ok, I've thought of a number.\n",
        "\n",
        "**Me:** I will guess a number and you tell me if it is higher or lower than your number. If I've guessed your number tell me that I've guessed it!\n",
        "\n",
        "**Me:** 50?\n",
        "\n",
        "**You:** High.\n",
        "\n",
        "**Me:** 25?\n",
        "\n",
        "**You:** Low.\n",
        "\n",
        "**Me:** 37?\n",
        "\n",
        "**You:** High.\n",
        "\n",
        "**Me:** 31?\n",
        "\n",
        "**You:** High.\n",
        "\n",
        "**Me:** 28?\n",
        "\n",
        "**You:** High.\n",
        "\n",
        "**Me:** 26?\n",
        "\n",
        "**You:** Low.\n",
        "\n",
        "**Me:** Your number is 27.\n",
        "\n",
        "Let's code my **_algorithm_** for guessing the number!"
      ]
    },
    {
      "cell_type": "code",
      "metadata": {
        "id": "HzD3JasUZxG4",
        "colab_type": "code",
        "colab": {}
      },
      "source": [
        "def generate_game(your_number, max_number):\n",
        "    # Define a function to reply whether the number specified is higher thant the number thought of\n",
        "    def high_or_low(my_guess):\n",
        "        if your_number == my_guess:\n",
        "            print(\"You: You guessed it!\")\n",
        "        elif your_number > my_guess:\n",
        "            print(\"You: Low\")\n",
        "            return True\n",
        "        else:\n",
        "            print(\"You: High\")\n",
        "            return False\n",
        "        \n",
        "    def squared_error(guess, actual):\n",
        "        '''\n",
        "            What is the squared difference between my guess and the actual number.\n",
        "            This is a numerically the \"error\" of my guess.\n",
        "        '''\n",
        "        return (actual - guess) ** 2\n",
        "        \n",
        "    # Define a binary search algorithm\n",
        "    def binary_search(low, high, distances):\n",
        "        midpoint = int((low + high) / 2)\n",
        "        distances.append(squared_error(midpoint, your_number))\n",
        "        if midpoint == low + 1 and midpoint == high - 1:\n",
        "            print(\"Me: Your number is {}\".format(midpoint))\n",
        "        else:\n",
        "            print(\"Me: {}?\".format(midpoint))\n",
        "            is_higher = high_or_low(midpoint)\n",
        "            if is_higher is None:\n",
        "                return\n",
        "            if is_higher:\n",
        "                binary_search(midpoint, high, distances)\n",
        "            else:\n",
        "                binary_search(low, midpoint, distances)\n",
        "            \n",
        "    \n",
        "    print(\"Me: Think of a number between 1 and {}\".format(max_number))\n",
        "    print(\"You: (thinks of {}). Ok\".format(your_number))\n",
        "    print(\"Me: I will guess a number and you tell me if it is higher or lower than your number. If I've guessed your number tell me that I've guessed it!\")\n",
        "    distances = []\n",
        "    binary_search(1, max_number, distances)\n",
        "    return distances"
      ],
      "execution_count": 0,
      "outputs": []
    },
    {
      "cell_type": "markdown",
      "metadata": {
        "id": "B0xLZiXYZxHI",
        "colab_type": "text"
      },
      "source": [
        "We just generated a systematic algorithm to guess a random number! Let's try it out:"
      ]
    },
    {
      "cell_type": "code",
      "metadata": {
        "id": "OYiUefhlZxHM",
        "colab_type": "code",
        "outputId": "f9643da1-9ae7-4434-bccd-e6c537f4fd36",
        "colab": {
          "base_uri": "https://localhost:8080/",
          "height": 301
        }
      },
      "source": [
        "# Run this cell multiple times to try other numbers\n",
        "errors = generate_game(27, 100)"
      ],
      "execution_count": 0,
      "outputs": [
        {
          "output_type": "stream",
          "text": [
            "Me: Think of a number between 1 and 100\n",
            "You: (thinks of 27). Ok\n",
            "Me: I will guess a number and you tell me if it is higher or lower than your number. If I've guessed your number tell me that I've guessed it!\n",
            "Me: 50?\n",
            "You: High\n",
            "Me: 25?\n",
            "You: Low\n",
            "Me: 37?\n",
            "You: High\n",
            "Me: 31?\n",
            "You: High\n",
            "Me: 28?\n",
            "You: High\n",
            "Me: 26?\n",
            "You: Low\n",
            "Me: Your number is 27\n"
          ],
          "name": "stdout"
        }
      ]
    },
    {
      "cell_type": "markdown",
      "metadata": {
        "id": "5HS50ezzZxHg",
        "colab_type": "text"
      },
      "source": [
        "We could do this for a number between 1 and 10,000 as well:"
      ]
    },
    {
      "cell_type": "code",
      "metadata": {
        "id": "_ROL1VwNZxHk",
        "colab_type": "code",
        "outputId": "5877a361-08cc-4c6e-d5f6-9b264d2582cb",
        "colab": {
          "base_uri": "https://localhost:8080/",
          "height": 532
        }
      },
      "source": [
        "# Run this cell multiple times  with different values to see whats going on\n",
        "errors = generate_game(598, 10000)"
      ],
      "execution_count": 0,
      "outputs": [
        {
          "output_type": "stream",
          "text": [
            "Me: Think of a number between 1 and 10000\n",
            "You: (thinks of 598). Ok\n",
            "Me: I will guess a number and you tell me if it is higher or lower than your number. If I've guessed your number tell me that I've guessed it!\n",
            "Me: 5000?\n",
            "You: High\n",
            "Me: 2500?\n",
            "You: High\n",
            "Me: 1250?\n",
            "You: High\n",
            "Me: 625?\n",
            "You: High\n",
            "Me: 313?\n",
            "You: Low\n",
            "Me: 469?\n",
            "You: Low\n",
            "Me: 547?\n",
            "You: Low\n",
            "Me: 586?\n",
            "You: Low\n",
            "Me: 605?\n",
            "You: High\n",
            "Me: 595?\n",
            "You: Low\n",
            "Me: 600?\n",
            "You: High\n",
            "Me: 597?\n",
            "You: Low\n",
            "Me: 598?\n",
            "You: You guessed it!\n"
          ],
          "name": "stdout"
        }
      ]
    },
    {
      "cell_type": "markdown",
      "metadata": {
        "id": "poKGvXFgZxH2",
        "colab_type": "text"
      },
      "source": [
        "Let's look at the error of my gueses visually:"
      ]
    },
    {
      "cell_type": "code",
      "metadata": {
        "id": "nE67FI4vZxH6",
        "colab_type": "code",
        "outputId": "57cda106-d98e-4343-eb73-2f5db44319ac",
        "colab": {
          "base_uri": "https://localhost:8080/",
          "height": 293
        }
      },
      "source": [
        "# Plotting first column vs second column\n",
        "plt.plot(range(1, len(errors) + 1), errors)\n",
        "# Label the axes\n",
        "plt.ylabel('error')\n",
        "plt.xlabel('attempt')\n",
        "# Make the ticks correspond to the x values\n",
        "plt.xticks(range(1, len(errors) + 1))\n",
        "plt.show()"
      ],
      "execution_count": 0,
      "outputs": [
        {
          "output_type": "display_data",
          "data": {
            "image/png": "[encoded data removed]",
            "text/plain": [
              "<Figure size 432x288 with 1 Axes>"
            ]
          },
          "metadata": {
            "tags": []
          }
        }
      ]
    },
    {
      "cell_type": "markdown",
      "metadata": {
        "id": "lpfkJCy7ZxIM",
        "colab_type": "text"
      },
      "source": [
        "Congratulations! We have developed an algorithm that **_learns_** a number that it does not know by iteratively improving its guess (and decreasing the error of the guess)! This is how **_Machine Learning_** works too!\n",
        "\n",
        "Let's start with a very simple problem. Let's assume we live in an ideal world where the price of a bunch of houses looks like this:\n",
        "\n",
        "|Bedrooms       | Price         |\n",
        "|---------------|:-------------:|\n",
        "| 1             | 300,000       |\n",
        "| 2\t            | 500,000       |\n",
        "| 3             | 700,000       |\n",
        "| 4             | 900,000       |\n",
        "| 5             | 1,100,000     |\n",
        "\n",
        "When we look at the above data as a human being, we are easily able to spot patterns.\n",
        "\n",
        "For example, we notice that when we increase the number of bedrooms by 1, the prices increases by 200,000.\n",
        "\n",
        "Thus, we could say hmmm. Let's define this recursively."
      ]
    },
    {
      "cell_type": "markdown",
      "metadata": {
        "id": "xJkydKf1ZxIQ",
        "colab_type": "text"
      },
      "source": [
        "\\begin{align}\n",
        "f(1) = 300,000\n",
        "\\end{align}\n",
        "\\begin{align}\n",
        "f(x) = f(x-1) + 200,000\n",
        "\\end{align}"
      ]
    },
    {
      "cell_type": "code",
      "metadata": {
        "id": "I5ZXeWodZxIU",
        "colab_type": "code",
        "colab": {}
      },
      "source": [
        "# Let's define a Python function\n",
        "def price_recursive(bedrooms):\n",
        "    # If less than 1 bedroom, then this does not make sense\n",
        "    if bedrooms < 1:\n",
        "        return None\n",
        "    # If one bedroom, we know the baseline price is 300,000\n",
        "    elif bedrooms == 1:\n",
        "        return 300000\n",
        "    # Otherwise, we spotted the pattern that the price always\n",
        "    # seems 200,000 more than the price of the previous row\n",
        "    else:\n",
        "        return price_recursive(bedrooms - 1) + 200000"
      ],
      "execution_count": 0,
      "outputs": []
    },
    {
      "cell_type": "markdown",
      "metadata": {
        "id": "qYK8XQTIZxIg",
        "colab_type": "text"
      },
      "source": [
        "Now let's test the function!"
      ]
    },
    {
      "cell_type": "code",
      "metadata": {
        "id": "xDoRZl3UZxIk",
        "colab_type": "code",
        "outputId": "59330a2e-8532-44ad-f34d-fe42dd78425e",
        "colab": {
          "base_uri": "https://localhost:8080/",
          "height": 35
        }
      },
      "source": [
        "# Change the number in the cell to test our theory\n",
        "price_recursive(6)"
      ],
      "execution_count": 0,
      "outputs": [
        {
          "output_type": "execute_result",
          "data": {
            "text/plain": [
              "1300000"
            ]
          },
          "metadata": {
            "tags": []
          },
          "execution_count": 7
        }
      ]
    },
    {
      "cell_type": "markdown",
      "metadata": {
        "id": "Ypy6kaDIZxIt",
        "colab_type": "text"
      },
      "source": [
        "Awesome! We just used our human intelligence to find a pattern in the data!\n",
        "\n",
        "What about if we look at this data on a graph, where the x axis is the number of rooms, and the y axis is the price?"
      ]
    },
    {
      "cell_type": "code",
      "metadata": {
        "id": "Aqi6EZl4ZxIw",
        "colab_type": "code",
        "outputId": "f1515a26-03ed-45d5-c72b-d274e9f12c78",
        "colab": {
          "base_uri": "https://localhost:8080/",
          "height": 106
        }
      },
      "source": [
        "# First let's put our data in a matrix\n",
        "data = np.asarray([[1, 300000], [2, 500000], [3, 700000], [4, 900000], [5, 1100000]])\n",
        "data"
      ],
      "execution_count": 0,
      "outputs": [
        {
          "output_type": "execute_result",
          "data": {
            "text/plain": [
              "array([[      1,  300000],\n",
              "       [      2,  500000],\n",
              "       [      3,  700000],\n",
              "       [      4,  900000],\n",
              "       [      5, 1100000]])"
            ]
          },
          "metadata": {
            "tags": []
          },
          "execution_count": 8
        }
      ]
    },
    {
      "cell_type": "markdown",
      "metadata": {
        "id": "lRWcaCPzZxI5",
        "colab_type": "text"
      },
      "source": [
        "Great! Now let's plot the data to see if we can see any more patterns!"
      ]
    },
    {
      "cell_type": "code",
      "metadata": {
        "id": "WNC-RE6BZxI6",
        "colab_type": "code",
        "outputId": "7ae8075d-3f88-40d2-e01c-22077d96461c",
        "colab": {
          "base_uri": "https://localhost:8080/",
          "height": 286
        }
      },
      "source": [
        "# Plotting first column vs second column\n",
        "plt.plot(data[:, 0], data[:, 1])\n",
        "# Label the axes\n",
        "plt.ylabel('price')\n",
        "plt.xlabel('bedrooms')\n",
        "# Make the ticks correspond to the x values\n",
        "plt.xticks(data[:, 0])\n",
        "plt.show()"
      ],
      "execution_count": 0,
      "outputs": [
        {
          "output_type": "display_data",
          "data": {
            "image/png": "[encoded data removed]",
            "text/plain": [
              "<Figure size 432x288 with 1 Axes>"
            ]
          },
          "metadata": {
            "tags": []
          }
        }
      ]
    },
    {
      "cell_type": "markdown",
      "metadata": {
        "id": "tUIykFZVZxJC",
        "colab_type": "text"
      },
      "source": [
        "Amazing! Our human ingenuity of visualization has shown us another pattern in the data. It is linear.\n",
        "\n",
        "So can we write a function that represents a line?\n",
        "\n",
        "Recall that the equation of the line is defined as:"
      ]
    },
    {
      "cell_type": "markdown",
      "metadata": {
        "id": "IPhex_EIZxJD",
        "colab_type": "text"
      },
      "source": [
        "\\begin{equation}\n",
        "y = mx + b\n",
        "\\end{equation}"
      ]
    },
    {
      "cell_type": "markdown",
      "metadata": {
        "id": "TO7oo_ExZxJE",
        "colab_type": "text"
      },
      "source": [
        "**_m_** is known as the slope or gradient of the line and **_b_** is a constant, which, in machine learning lingo is known as a bias term."
      ]
    },
    {
      "cell_type": "code",
      "metadata": {
        "id": "Y5YTUxGFZxJF",
        "colab_type": "code",
        "colab": {}
      },
      "source": [
        "# Let's write this up as a function as well\n",
        "def y(m, b, x):\n",
        "    return m * x + b\n",
        "\n",
        "# Can we define a function with a fixed m and b that returns the value of y?\n",
        "# Of course we can\n",
        "from functools import partial\n",
        "def get_y_hat_function(m=1, b=0):\n",
        "    return partial(y, m, b)"
      ],
      "execution_count": 0,
      "outputs": []
    },
    {
      "cell_type": "markdown",
      "metadata": {
        "id": "S9fxO4N5ZxJJ",
        "colab_type": "text"
      },
      "source": [
        "Now we can guess some values for m and b to see how the function responds:"
      ]
    },
    {
      "cell_type": "code",
      "metadata": {
        "id": "ghR3rBx3ZxJK",
        "colab_type": "code",
        "outputId": "89a8d752-680c-4c58-937d-2f6fa06a45f5",
        "colab": {
          "base_uri": "https://localhost:8080/",
          "height": 35
        }
      },
      "source": [
        "my_y = get_y_hat_function(m=50000, b=100000)\n",
        "my_y(1)"
      ],
      "execution_count": 0,
      "outputs": [
        {
          "output_type": "execute_result",
          "data": {
            "text/plain": [
              "150000"
            ]
          },
          "metadata": {
            "tags": []
          },
          "execution_count": 11
        }
      ]
    },
    {
      "cell_type": "markdown",
      "metadata": {
        "id": "_DmeNaviZxJP",
        "colab_type": "text"
      },
      "source": [
        "That doesn't look right! How about we try some new values for m and b. Let's try 150,000 and 100,000:"
      ]
    },
    {
      "cell_type": "code",
      "metadata": {
        "id": "J3KX0rwHZxJR",
        "colab_type": "code",
        "outputId": "79ce45a8-0581-4487-bcca-63366cc83b6a",
        "colab": {
          "base_uri": "https://localhost:8080/",
          "height": 35
        }
      },
      "source": [
        "my_y = get_y_hat_function(m=150000, b=100000)\n",
        "my_y(1)"
      ],
      "execution_count": 0,
      "outputs": [
        {
          "output_type": "execute_result",
          "data": {
            "text/plain": [
              "250000"
            ]
          },
          "metadata": {
            "tags": []
          },
          "execution_count": 12
        }
      ]
    },
    {
      "cell_type": "markdown",
      "metadata": {
        "id": "o_Rflx9hZxJU",
        "colab_type": "text"
      },
      "source": [
        "That seems closer to the actual price! Let's try two other values: m=200,000, b=100,000"
      ]
    },
    {
      "cell_type": "code",
      "metadata": {
        "id": "v16AAujnZxJV",
        "colab_type": "code",
        "outputId": "e8f2f13b-c34d-43a2-d5ca-46ae49235052",
        "colab": {
          "base_uri": "https://localhost:8080/",
          "height": 35
        }
      },
      "source": [
        "my_y = get_y_hat_function(m=200000, b=100000)\n",
        "my_y(1)"
      ],
      "execution_count": 0,
      "outputs": [
        {
          "output_type": "execute_result",
          "data": {
            "text/plain": [
              "300000"
            ]
          },
          "metadata": {
            "tags": []
          },
          "execution_count": 13
        }
      ]
    },
    {
      "cell_type": "markdown",
      "metadata": {
        "id": "esPoRcLFZxJa",
        "colab_type": "text"
      },
      "source": [
        "Et voila! We have found the correct values. You can try using different values for the number of bedrooms below:"
      ]
    },
    {
      "cell_type": "code",
      "metadata": {
        "id": "AR5T6reWZxJa",
        "colab_type": "code",
        "outputId": "767a4da3-7366-499d-e125-6a4b84dec630",
        "colab": {
          "base_uri": "https://localhost:8080/",
          "height": 35
        }
      },
      "source": [
        "my_y(3)"
      ],
      "execution_count": 0,
      "outputs": [
        {
          "output_type": "execute_result",
          "data": {
            "text/plain": [
              "700000"
            ]
          },
          "metadata": {
            "tags": []
          },
          "execution_count": 14
        }
      ]
    },
    {
      "cell_type": "markdown",
      "metadata": {
        "id": "JqLHK7_4ZxJe",
        "colab_type": "text"
      },
      "source": [
        "## What just happened?\n",
        "\n",
        "1. We tried to get an intuitive sense of how a machine may guess a number by **_iterative improvement_**.\n",
        "2. We then took a toy dataset of housing prices with and tried to see a pattern in it.\n",
        "3. As human beings, we looked at the data and first defined a function that made sense to us intuitively.\n",
        "4. We checked and were reassured that the powers of human ingenuity and creativity are indeed intact and that we can think recursively!\n",
        "5. Then we thought, this data looks linear, lets try to pick values of **_m_** and **_b_** that satisfy the equation of a line.\n",
        "6. We tried some random values of **_m_** and **_b_**, but we found our results did not match.\n",
        "7. We could see how far away our results were from the actual values\n",
        "8. We tried to pick new values of **_m_** and **_b_** so that we got closer to the actual values\n",
        "9. Finally we reached the ideal solution for our toy problem.\n",
        "\n",
        "## Can we do this automatically?\n",
        "\n",
        "The steps above seem pretty logical. Can we automate them? Can we write an algorithm that \"learns\" the values of **_m_** and **_b_**? \n",
        "\n",
        "#### An algorithm that \"learns\" the values of m and b (called parameters) from the given data, is a machine learning algorithm. "
      ]
    },
    {
      "cell_type": "code",
      "metadata": {
        "id": "CFL4GVj4ZxJg",
        "colab_type": "code",
        "colab": {}
      },
      "source": [
        ""
      ],
      "execution_count": 0,
      "outputs": []
    }
  ]
}