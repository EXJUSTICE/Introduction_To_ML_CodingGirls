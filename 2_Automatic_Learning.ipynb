{
  "nbformat": 4,
  "nbformat_minor": 0,
  "metadata": {
    "colab": {
      "name": "2 - Automatic Learning.ipynb",
      "version": "0.3.2",
      "provenance": []
    },
    "language_info": {
      "codemirror_mode": {
        "name": "ipython",
        "version": 3
      },
      "file_extension": ".py",
      "mimetype": "text/x-python",
      "name": "python",
      "nbconvert_exporter": "python",
      "pygments_lexer": "ipython3",
      "version": "3.7.1"
    },
    "kernelspec": {
      "display_name": "Python 3",
      "language": "python",
      "name": "python3"
    }
  },
  "cells": [
    {
      "cell_type": "markdown",
      "metadata": {
        "id": "_tJ5pJraaLCb",
        "colab_type": "text"
      },
      "source": [
        "# 2. Automatic Learning\n",
        "\n",
        "In the previous part, we used human intuition to spot patterns in data.\n",
        "\n",
        "We then used those patterns to predict the price of houses even when we did not have data.\n",
        "\n",
        "In this part, we will try to create an algorithm for **_\"learning\"_** the values of **_m_** and **_b_** from the data.\n",
        "\n",
        "This important small step will allow us to eventually approximate any function.\n",
        "\n",
        "First, as usual, some initialization, and let's load up our toy data:"
      ]
    },
    {
      "cell_type": "code",
      "metadata": {
        "id": "3bZ459eYaLCf",
        "colab_type": "code",
        "colab": {
          "base_uri": "https://localhost:8080/",
          "height": 106
        },
        "outputId": "2120d6cb-c790-427e-c505-9a0061b70c06"
      },
      "source": [
        "# Initialization stuff\n",
        "%matplotlib inline\n",
        "import numpy as np\n",
        "import matplotlib.pyplot as plt\n",
        "from IPython.display import Image\n",
        "import random\n",
        "import torch\n",
        "#from scripts.helper import *\n",
        "plt.style.use('ggplot')\n",
        "# For reproducibility\n",
        "random.seed(0)\n",
        "torch.manual_seed(0)\n",
        "np.random.seed(0)\n",
        "\n",
        "\n",
        "# Let's write this up as a function as well\n",
        "def y(m, b, x):\n",
        "    return m * x + b\n",
        "\n",
        "# Can we define a function with a fixed m and b that returns the value of y?\n",
        "# Of course we can\n",
        "from functools import partial\n",
        "def get_y_hat_function(m, b):\n",
        "    return partial(y, m, b)\n",
        "\n",
        "\n",
        "data = np.asarray([[1, 300000], [2, 500000], [3, 700000], [4, 900000], [5, 1100000]])\n",
        "data"
      ],
      "execution_count": 1,
      "outputs": [
        {
          "output_type": "execute_result",
          "data": {
            "text/plain": [
              "array([[      1,  300000],\n",
              "       [      2,  500000],\n",
              "       [      3,  700000],\n",
              "       [      4,  900000],\n",
              "       [      5, 1100000]])"
            ]
          },
          "metadata": {
            "tags": []
          },
          "execution_count": 1
        }
      ]
    },
    {
      "cell_type": "markdown",
      "metadata": {
        "id": "wJnnd21jaLCv",
        "colab_type": "text"
      },
      "source": [
        "### Loss Function\n",
        "\n",
        "In the previous section, we tried to guess values of **_m_** and **_b_** and observed how the output result changed. Then based on how far the output result was from the actual result, we re-adjusted the values of **_m_** and **_b_** to finally arrive at the perfect values for **_m_** and **_b_** (given that we are living in an ideal world).\n",
        "\n",
        "So let us define another function called the **_loss_** function that determines how far the **_\"output\"_** or **_\"predicted\"_** value is from the **_\"actual\"_** or **_\"ground truth\"_** value.\n",
        "\n",
        "Now if we denote the output of our approximation as **_ŷ_** (pronounced y hat), and we further denote the actual value as **_y_**, then we can define a **_loss_** function as the square of the difference between them.\n",
        "\n",
        "This is a good measure as it gives us a measure of how far away **_ŷ_** is from **_y_**"
      ]
    },
    {
      "cell_type": "code",
      "metadata": {
        "id": "FHs5Fa6DaLCz",
        "colab_type": "code",
        "colab": {
          "base_uri": "https://localhost:8080/",
          "height": 34
        },
        "outputId": "d917a0af-7acc-422c-a2b7-1f55a13f04eb"
      },
      "source": [
        "%%latex\n",
        "\\begin{equation}\n",
        "L(ŷ, y) = (ŷ-y)^2\n",
        "\\end{equation}"
      ],
      "execution_count": 2,
      "outputs": [
        {
          "output_type": "display_data",
          "data": {
            "text/latex": "\\begin{equation}\nL(ŷ, y) = (ŷ-y)^2\n\\end{equation}",
            "text/plain": [
              "<IPython.core.display.Latex object>"
            ]
          },
          "metadata": {
            "tags": []
          }
        }
      ]
    },
    {
      "cell_type": "markdown",
      "metadata": {
        "id": "d6y5WqrRaLDB",
        "colab_type": "text"
      },
      "source": [
        "Recall that given a guessed value of **_m_** as 150,000 and **_b_** as 100,000, we could get a function to get **_ŷ_** like this:"
      ]
    },
    {
      "cell_type": "code",
      "metadata": {
        "id": "5fa6-sgwaLDD",
        "colab_type": "code",
        "colab": {
          "base_uri": "https://localhost:8080/",
          "height": 35
        },
        "outputId": "70d8c628-5fd9-4972-e1f7-c5b174c04a7c"
      },
      "source": [
        "y_hat = get_y_hat_function(m=150000, b=100000)\n",
        "# Show the \"predicted\" value ŷ for a 3 bedroom house\n",
        "y_hat(3)"
      ],
      "execution_count": 3,
      "outputs": [
        {
          "output_type": "execute_result",
          "data": {
            "text/plain": [
              "550000"
            ]
          },
          "metadata": {
            "tags": []
          },
          "execution_count": 3
        }
      ]
    },
    {
      "cell_type": "markdown",
      "metadata": {
        "id": "aRUH1lWYaLDM",
        "colab_type": "text"
      },
      "source": [
        "We can also define a y function that gets the actual value:"
      ]
    },
    {
      "cell_type": "code",
      "metadata": {
        "id": "D5_G2ResaLDO",
        "colab_type": "code",
        "colab": {
          "base_uri": "https://localhost:8080/",
          "height": 35
        },
        "outputId": "e1ec7ace-3ca3-4ae4-c3fd-3010ea32eea3"
      },
      "source": [
        "def yfunc(x):\n",
        "    # We can only get values for items that are present in the dataset\n",
        "    if x > data.shape[0] or x < 1:\n",
        "        return None\n",
        "    else:\n",
        "        return data[x-1,1]\n",
        "\n",
        "# Actual value y for a 3 bedroom house\n",
        "yfunc(3)"
      ],
      "execution_count": 4,
      "outputs": [
        {
          "output_type": "execute_result",
          "data": {
            "text/plain": [
              "700000"
            ]
          },
          "metadata": {
            "tags": []
          },
          "execution_count": 4
        }
      ]
    },
    {
      "cell_type": "markdown",
      "metadata": {
        "id": "8DPJFAI4aLDU",
        "colab_type": "text"
      },
      "source": [
        "We can also define the loss function:"
      ]
    },
    {
      "cell_type": "code",
      "metadata": {
        "id": "E_TOe3icaLDW",
        "colab_type": "code",
        "colab": {
          "base_uri": "https://localhost:8080/",
          "height": 35
        },
        "outputId": "ec628a76-0696-4496-8fb2-a8c53a8a809c"
      },
      "source": [
        "def loss(y_hat, y):\n",
        "    return (y_hat - y) ** 2\n",
        "\n",
        "# What is the value for the loss for a 3 bedroom house?\n",
        "loss(y_hat(3), yfunc(3))"
      ],
      "execution_count": 5,
      "outputs": [
        {
          "output_type": "execute_result",
          "data": {
            "text/plain": [
              "22500000000"
            ]
          },
          "metadata": {
            "tags": []
          },
          "execution_count": 5
        }
      ]
    },
    {
      "cell_type": "markdown",
      "metadata": {
        "id": "O5nYDD_UaLDb",
        "colab_type": "text"
      },
      "source": [
        "What if we changed **_m_** as 170,000 and **_b_** as 100,000?"
      ]
    },
    {
      "cell_type": "code",
      "metadata": {
        "id": "m35KJ4coaLDc",
        "colab_type": "code",
        "colab": {
          "base_uri": "https://localhost:8080/",
          "height": 35
        },
        "outputId": "460456c5-f763-43e2-817e-7a02358ce08d"
      },
      "source": [
        "y_hat = get_y_hat_function(m=170000, b=100000)\n",
        "\n",
        "loss(y_hat(3), yfunc(3))"
      ],
      "execution_count": 7,
      "outputs": [
        {
          "output_type": "execute_result",
          "data": {
            "text/plain": [
              "8100000000"
            ]
          },
          "metadata": {
            "tags": []
          },
          "execution_count": 7
        }
      ]
    },
    {
      "cell_type": "markdown",
      "metadata": {
        "id": "yr79zJ9CaLDh",
        "colab_type": "text"
      },
      "source": [
        "We see that the loss decreased! That means this new guess is better than our previous guess.\n",
        "\n",
        "But we see that the loss is measured over a single data point (or row) in our data - in this case for the data point of a 3 bedroom apartment.\n",
        "\n",
        "What we really want is a measure of how far off we are from an ideal solution over more than one row.\n",
        "\n",
        "For this we define **_cost_** function which we can simply take as the average of the loss for each row.\n",
        "\n",
        "### Cost Function\n",
        "\n",
        "The cost function is simply the average of the losses over all **_k_** rows:"
      ]
    },
    {
      "cell_type": "code",
      "metadata": {
        "id": "MkeCgQq4aLDi",
        "colab_type": "code",
        "colab": {
          "base_uri": "https://localhost:8080/",
          "height": 34
        },
        "outputId": "daf94433-1d20-4af2-da0e-5ff278628793"
      },
      "source": [
        "%%latex\n",
        "\\begin{equation}\n",
        "J(w, b) = \\frac{1}{m} \\sum_{n=1}^{k} L_i(ŷ_i, y_i)\n",
        "\\end{equation}"
      ],
      "execution_count": 8,
      "outputs": [
        {
          "output_type": "display_data",
          "data": {
            "text/latex": "\\begin{equation}\nJ(w, b) = \\frac{1}{m} \\sum_{n=1}^{k} L_i(ŷ_i, y_i)\n\\end{equation}",
            "text/plain": [
              "<IPython.core.display.Latex object>"
            ]
          },
          "metadata": {
            "tags": []
          }
        }
      ]
    },
    {
      "cell_type": "markdown",
      "metadata": {
        "id": "UUp026v8aLDn",
        "colab_type": "text"
      },
      "source": [
        "Notice that in the above equation, we have used **_w_** instead of **_m_**. **_w_** is more machine learning parlance and represents a weight. Thus, given a _weight_ **_w_** and and _bias_ **_b_**, We can calculate the cost - a measure of how far away our guess is from the actual values of **_w_** and **_b_**.\n",
        "\n",
        "Next, lets define this in Python for clarity:"
      ]
    },
    {
      "cell_type": "code",
      "metadata": {
        "id": "EveeNGfzaLDp",
        "colab_type": "code",
        "colab": {
          "base_uri": "https://localhost:8080/",
          "height": 35
        },
        "outputId": "a45f2195-212f-4093-b83e-212eb8f66662"
      },
      "source": [
        "def J(w, b):\n",
        "    y_hat = get_y_hat_function(m=w, b=b)\n",
        "    losses = []\n",
        "    for row in range(data.shape[0]):\n",
        "        row_loss = loss(y_hat(row+1), yfunc(row+1))\n",
        "        losses.append(row_loss)\n",
        "    return sum(losses) / len(losses)\n",
        "\n",
        "# What is the loss for w=170000, b=100000\n",
        "J(170000, 100000)"
      ],
      "execution_count": 10,
      "outputs": [
        {
          "output_type": "execute_result",
          "data": {
            "text/plain": [
              "9900000000.0"
            ]
          },
          "metadata": {
            "tags": []
          },
          "execution_count": 10
        }
      ]
    },
    {
      "cell_type": "markdown",
      "metadata": {
        "id": "Z0-CxEK2aLDt",
        "colab_type": "text"
      },
      "source": [
        "So, now we have a measure of how correct or incorrect our guesses are for **_w_** and **_b_** over the entire dataset.\n",
        "\n",
        "Let's try **_w_** as 190,000 and **_b_** as 100,000"
      ]
    },
    {
      "cell_type": "code",
      "metadata": {
        "id": "VmZBpZv6aLDv",
        "colab_type": "code",
        "colab": {
          "base_uri": "https://localhost:8080/",
          "height": 35
        },
        "outputId": "069d60d0-8f01-4a0e-f76d-9db548248d26"
      },
      "source": [
        "J(190000, 100000)"
      ],
      "execution_count": 11,
      "outputs": [
        {
          "output_type": "execute_result",
          "data": {
            "text/plain": [
              "1100000000.0"
            ]
          },
          "metadata": {
            "tags": []
          },
          "execution_count": 11
        }
      ]
    },
    {
      "cell_type": "markdown",
      "metadata": {
        "id": "k3y0fHEJaLDz",
        "colab_type": "text"
      },
      "source": [
        "The cost decreased! So we are on the right track, lets try **_w_** as 210,000 and **_b_** as 100,000"
      ]
    },
    {
      "cell_type": "code",
      "metadata": {
        "id": "hDMLpVVKaLD0",
        "colab_type": "code",
        "colab": {
          "base_uri": "https://localhost:8080/",
          "height": 35
        },
        "outputId": "d6676776-37bf-4454-b5b8-c11df2b3cadd"
      },
      "source": [
        "J(210000, 100000)"
      ],
      "execution_count": 12,
      "outputs": [
        {
          "output_type": "execute_result",
          "data": {
            "text/plain": [
              "1100000000.0"
            ]
          },
          "metadata": {
            "tags": []
          },
          "execution_count": 12
        }
      ]
    },
    {
      "cell_type": "markdown",
      "metadata": {
        "id": "0W9QA1WeaLD3",
        "colab_type": "text"
      },
      "source": [
        "The cost is the same! That means w must lie in between:"
      ]
    },
    {
      "cell_type": "code",
      "metadata": {
        "id": "yXGz9g-3aLD3",
        "colab_type": "code",
        "colab": {
          "base_uri": "https://localhost:8080/",
          "height": 35
        },
        "outputId": "8d05e43d-2572-4235-e92a-b6d02aff28a7"
      },
      "source": [
        "J(200000, 100000)"
      ],
      "execution_count": 13,
      "outputs": [
        {
          "output_type": "execute_result",
          "data": {
            "text/plain": [
              "0.0"
            ]
          },
          "metadata": {
            "tags": []
          },
          "execution_count": 13
        }
      ]
    },
    {
      "cell_type": "markdown",
      "metadata": {
        "id": "580LK28baLD8",
        "colab_type": "text"
      },
      "source": [
        "Thus we see, that the best value is achieved when the cost is 0, **_w_** is 200,000 and **_b_** is 100,000.\n",
        "\n",
        "Let us visualize this by looking at the value of **_J_** or cost as **_w_** varies between 190,000 and 210,000"
      ]
    },
    {
      "cell_type": "code",
      "metadata": {
        "id": "j9yaPV2zaLD-",
        "colab_type": "code",
        "colab": {
          "base_uri": "https://localhost:8080/",
          "height": 293
        },
        "outputId": "f411df6e-19a2-49ab-fe9a-e57bbcae379c"
      },
      "source": [
        "x_axis = []\n",
        "y_axis = []\n",
        "for w in range(190000, 210001, 1000):\n",
        "    x_axis.append(w)\n",
        "    y_axis.append(J(w, 100000))\n",
        "# Plotting first column vs second column\n",
        "plt.plot(x_axis, y_axis)\n",
        "# Label the axes\n",
        "plt.ylabel('Cost')\n",
        "plt.xlabel('w in thousands @ b=100,000')\n",
        "plt.show()"
      ],
      "execution_count": 14,
      "outputs": [
        {
          "output_type": "display_data",
          "data": {
            "image/png": "[encoded data removed]",
            "text/plain": [
              "<Figure size 432x288 with 1 Axes>"
            ]
          },
          "metadata": {
            "tags": []
          }
        }
      ]
    },
    {
      "cell_type": "markdown",
      "metadata": {
        "id": "eJmZsqMNaLEA",
        "colab_type": "text"
      },
      "source": [
        "Excellent! Now we can see how this cost function varies as the values of **_w_** and **_b_** change.\n",
        "\n",
        "Now, given a **_w_** and **_b_**, we can calculate the slope or **_gradient_** of the **_cost_** function to determine how to adjust the values of **_w_** and **_b_**."
      ]
    },
    {
      "cell_type": "code",
      "metadata": {
        "id": "QCfbPPSBaLEB",
        "colab_type": "code",
        "colab": {
          "base_uri": "https://localhost:8080/",
          "height": 34
        },
        "outputId": "fb48c1c7-fd26-4524-b824-0a385213cc40"
      },
      "source": [
        "Image(\"images/gradient.png\")"
      ],
      "execution_count": 15,
      "outputs": [
        {
          "output_type": "execute_result",
          "data": {
            "image/png": "images/gradient.png",
            "text/plain": [
              "<IPython.core.display.Image object>"
            ]
          },
          "metadata": {
            "tags": []
          },
          "execution_count": 15
        }
      ]
    },
    {
      "cell_type": "markdown",
      "metadata": {
        "id": "bftzcMhhaLEF",
        "colab_type": "text"
      },
      "source": [
        "Now, if we calculate the gradient of the cost function and adjust the value of **_w_** and **_b_** in some proportion to the gradient, then we would be moving closer to the minima of the cost function.\n",
        "\n",
        "Recall from calculus that the gradient of a curve is its derivative. In this case, we want to calculate the deriviatives of **_J_** with respect to **_w_** and **_b_**"
      ]
    },
    {
      "cell_type": "code",
      "metadata": {
        "id": "y8ofs2OKaLEF",
        "colab_type": "code",
        "colab": {
          "base_uri": "https://localhost:8080/",
          "height": 68
        },
        "outputId": "766e569a-ccd8-44f7-fcab-4aca4de5ac47"
      },
      "source": [
        "%%latex\n",
        "\\begin{equation}\n",
        "J(w, b) = \\frac{1}{m} \\sum_{n=1}^{k} L_i(ŷ_i, y_i)\n",
        "\\end{equation}\n",
        "\n",
        "Therefore:\n",
        "\\begin{equation}\n",
        "\\frac{dJ(w, b)}{dw} = \\frac{1}{m} \\sum_{n=1}^{k} \\frac{dL_i(ŷ_i, y_i)}{dw} = \\frac{1}{m} \\sum_{n=1}^{k} \\frac{d(((wx_i+b)-y_i)^2)}{dw} = \\frac{2}{m} \\sum_{n=1}^{k} x_i(wx_i - y_i + b)\n",
        "\\end{equation}\n",
        "\n",
        "and\n",
        "\n",
        "\\begin{equation}\n",
        "\\frac{dJ(w, b)}{db} = \\frac{1}{m} \\sum_{n=1}^{k} \\frac{dL_i(ŷ_i, y_i)}{db} = \\frac{1}{m} \\sum_{n=1}^{k} \\frac{d(((wx_i+b)-y_i)^2)}{db} = \\frac{2}{m} \\sum_{n=1}^{k} (wx_i - y_i + b)\n",
        "\\end{equation}"
      ],
      "execution_count": 16,
      "outputs": [
        {
          "output_type": "display_data",
          "data": {
            "text/latex": "\\begin{equation}\nJ(w, b) = \\frac{1}{m} \\sum_{n=1}^{k} L_i(ŷ_i, y_i)\n\\end{equation}\n\nTherefore:\n\\begin{equation}\n\\frac{dJ(w, b)}{dw} = \\frac{1}{m} \\sum_{n=1}^{k} \\frac{dL_i(ŷ_i, y_i)}{dw} = \\frac{1}{m} \\sum_{n=1}^{k} \\frac{d(((wx_i+b)-y_i)^2)}{dw} = \\frac{2}{m} \\sum_{n=1}^{k} x_i(wx_i - y_i + b)\n\\end{equation}\n\nand\n\n\\begin{equation}\n\\frac{dJ(w, b)}{db} = \\frac{1}{m} \\sum_{n=1}^{k} \\frac{dL_i(ŷ_i, y_i)}{db} = \\frac{1}{m} \\sum_{n=1}^{k} \\frac{d(((wx_i+b)-y_i)^2)}{db} = \\frac{2}{m} \\sum_{n=1}^{k} (wx_i - y_i + b)\n\\end{equation}",
            "text/plain": [
              "<IPython.core.display.Latex object>"
            ]
          },
          "metadata": {
            "tags": []
          }
        }
      ]
    },
    {
      "cell_type": "markdown",
      "metadata": {
        "id": "uYo99xwfaLEJ",
        "colab_type": "text"
      },
      "source": [
        "To verify the calculus, you can use the following site:\n",
        "\n",
        "[https://www.derivative-calculator.net/](https://www.derivative-calculator.net/)\n",
        "\n",
        "Let's define functions for the above computations:"
      ]
    },
    {
      "cell_type": "code",
      "metadata": {
        "id": "B_0Ec_oAaLEK",
        "colab_type": "code",
        "colab": {
          "base_uri": "https://localhost:8080/",
          "height": 52
        },
        "outputId": "27ad6062-6f98-4f59-9483-58e00907021f"
      },
      "source": [
        "def dJ_dw(w, b):\n",
        "    accumulate = 0\n",
        "    for i in range(data.shape[0]):\n",
        "        x_i = data[i,0]\n",
        "        y_i = data[i,1]\n",
        "        accumulate += x_i * (w * x_i - y_i + b)\n",
        "    derivative = (2 / data.shape[0]) * accumulate\n",
        "    return derivative\n",
        "\n",
        "def dJ_db(w, b):\n",
        "    accumulate = 0\n",
        "    for i in range(data.shape[0]):\n",
        "        x_i = data[i,0]\n",
        "        y_i = data[i,1]\n",
        "        accumulate += (w * x_i - y_i + b)\n",
        "    derivative = (2 / data.shape[0]) * accumulate\n",
        "    return derivative\n",
        "\n",
        "# Let's check our calculations. Both derivates should be 0 when w = 200,000 and b=100,000\n",
        "print(\"Derivative with respect to w is {}\".format(dJ_dw(200000, 100000)))\n",
        "print(\"Derivative with respect to b is {}\".format(dJ_db(200000, 100000)))"
      ],
      "execution_count": 17,
      "outputs": [
        {
          "output_type": "stream",
          "text": [
            "Derivative with respect to w is 0.0\n",
            "Derivative with respect to b is 0.0\n"
          ],
          "name": "stdout"
        }
      ]
    },
    {
      "cell_type": "markdown",
      "metadata": {
        "id": "bFCYO0ruaLEN",
        "colab_type": "text"
      },
      "source": [
        "Excellent! Now we have functions to calculate the gradients of the **_cost_** function with respect to **_w_** and **_b_**\n",
        "\n",
        "Now, if we select some random  **_w_** and **_b_** and update them each time in the direction of the gradient by some amount proportional to the gradient, we should gradually reach optimum values of **_w_** and **_b_**\n",
        "\n",
        "To formalize this, **_w_** and **_b_** will be updated like the following:"
      ]
    },
    {
      "cell_type": "code",
      "metadata": {
        "id": "7xs4QH34aLEN",
        "colab_type": "code",
        "colab": {
          "base_uri": "https://localhost:8080/",
          "height": 34
        },
        "outputId": "f9642051-7922-4f37-a624-f66f8e856c2c"
      },
      "source": [
        "%%latex\n",
        "\\begin{equation}\n",
        "w = w - \\alpha \\frac{dJ(w, b)}{dw}\n",
        "\\end{equation}\n",
        "\n",
        "\\begin{equation}\n",
        "b = b - \\alpha \\frac{dJ(w, b)}{db}\n",
        "\\end{equation}"
      ],
      "execution_count": 18,
      "outputs": [
        {
          "output_type": "display_data",
          "data": {
            "text/latex": "\\begin{equation}\nw = w - \\alpha \\frac{dJ(w, b)}{dw}\n\\end{equation}\n\n\\begin{equation}\nb = b - \\alpha \\frac{dJ(w, b)}{db}\n\\end{equation}",
            "text/plain": [
              "<IPython.core.display.Latex object>"
            ]
          },
          "metadata": {
            "tags": []
          }
        }
      ]
    },
    {
      "cell_type": "markdown",
      "metadata": {
        "id": "vWGRbXrfaLEQ",
        "colab_type": "text"
      },
      "source": [
        "In the above equations, 𝛼 is known as the **_learning rate_**\n",
        "\n",
        "Let's see what values we arrive at in 10000 iterations!"
      ]
    },
    {
      "cell_type": "code",
      "metadata": {
        "id": "LzCdWgJBaLEQ",
        "colab_type": "code",
        "colab": {
          "base_uri": "https://localhost:8080/",
          "height": 52
        },
        "outputId": "83d25190-4031-4e11-d721-55002ca37663"
      },
      "source": [
        "alpha = 0.01\n",
        "w = 150000\n",
        "b = 80000\n",
        "for _ in range(10000):\n",
        "    w = w - alpha * dJ_dw(w, b)\n",
        "    b = b - alpha * dJ_db(w, b)\n",
        "\n",
        "print(\"Final value of w is {}\".format(w))\n",
        "print(\"Final value of b is {}\".format(b))"
      ],
      "execution_count": 19,
      "outputs": [
        {
          "output_type": "stream",
          "text": [
            "Final value of w is 200000.00000000087\n",
            "Final value of b is 99999.99999999703\n"
          ],
          "name": "stdout"
        }
      ]
    },
    {
      "cell_type": "markdown",
      "metadata": {
        "id": "HSo6frnIaLET",
        "colab_type": "text"
      },
      "source": [
        "Congratulations! The machine has learnt the values of **_w_** and **_b_** from the data!\n",
        "\n",
        "To convince yourself that this works, let's start with different random values of **_w_** and **_b_**:"
      ]
    },
    {
      "cell_type": "code",
      "metadata": {
        "id": "5-m2_2BAaLEU",
        "colab_type": "code",
        "colab": {
          "base_uri": "https://localhost:8080/",
          "height": 52
        },
        "outputId": "6fbbce95-834a-4827-c075-5a3e80706b54"
      },
      "source": [
        "alpha = 0.01\n",
        "w = 1000\n",
        "b = 8000\n",
        "for _ in range(10000):\n",
        "    w = w - alpha * dJ_dw(w, b)\n",
        "    b = b - alpha * dJ_db(w, b)\n",
        "\n",
        "print(\"Final value of w is {}\".format(w))\n",
        "print(\"Final value of b is {}\".format(b))"
      ],
      "execution_count": 20,
      "outputs": [
        {
          "output_type": "stream",
          "text": [
            "Final value of w is 200000.00000000087\n",
            "Final value of b is 99999.99999999703\n"
          ],
          "name": "stdout"
        }
      ]
    },
    {
      "cell_type": "markdown",
      "metadata": {
        "id": "6_zwfLipaLEW",
        "colab_type": "text"
      },
      "source": [
        "Or we could be even more extreme!"
      ]
    },
    {
      "cell_type": "code",
      "metadata": {
        "id": "WtGErK0laLEX",
        "colab_type": "code",
        "colab": {
          "base_uri": "https://localhost:8080/",
          "height": 52
        },
        "outputId": "05fccc9a-66e0-4260-b02b-ca1fb06c114a"
      },
      "source": [
        "alpha = 0.01\n",
        "w = 1\n",
        "b = 8\n",
        "for _ in range(10000):\n",
        "    w = w - alpha * dJ_dw(w, b)\n",
        "    b = b - alpha * dJ_db(w, b)\n",
        "\n",
        "print(\"Final value of w is {}\".format(w))\n",
        "print(\"Final value of b is {}\".format(b))"
      ],
      "execution_count": 21,
      "outputs": [
        {
          "output_type": "stream",
          "text": [
            "Final value of w is 200000.00000000087\n",
            "Final value of b is 99999.99999999703\n"
          ],
          "name": "stdout"
        }
      ]
    },
    {
      "cell_type": "markdown",
      "metadata": {
        "id": "VO0mcrXaaLEZ",
        "colab_type": "text"
      },
      "source": [
        "This method of learning the values of parameters is known as **_Gradient Descent_**. \n",
        "\n",
        "To better understand what's going on, lets plot the value of **_cost function_**, for the first 20 iterations:"
      ]
    },
    {
      "cell_type": "code",
      "metadata": {
        "id": "Z5ZAW-5SaLEa",
        "colab_type": "code",
        "colab": {
          "base_uri": "https://localhost:8080/",
          "height": 329
        },
        "outputId": "0421de5a-49be-4167-c559-51bbc59c732a"
      },
      "source": [
        "alpha = 0.01\n",
        "w = 1\n",
        "b = 8\n",
        "cost_function_values = []\n",
        "for iteration in range(20):\n",
        "    cost_function_values.append(J(w, b))\n",
        "    w = w - alpha * dJ_dw(w, b)\n",
        "    b = b - alpha * dJ_db(w, b)\n",
        "    \n",
        "print(\"Final value of w is {}\".format(w))\n",
        "print(\"Final value of b is {}\".format(b))\n",
        "\n",
        "# Plotting the cost as iterations increase\n",
        "y_axis = cost_function_values\n",
        "x_axis = range(len(cost_function_values))\n",
        "plt.plot(x_axis, y_axis)\n",
        "# Plot x axis ticks\n",
        "plt.xticks(x_axis)\n",
        "# Label the axes\n",
        "plt.ylabel('Cost')\n",
        "plt.xlabel('iteration')\n",
        "plt.show()"
      ],
      "execution_count": 22,
      "outputs": [
        {
          "output_type": "stream",
          "text": [
            "Final value of w is 212786.07270510666\n",
            "Final value of b is 49765.40383212933\n"
          ],
          "name": "stdout"
        },
        {
          "output_type": "display_data",
          "data": {
            "image/png": "[encoded data removed]",
            "text/plain": [
              "<Figure size 432x288 with 1 Axes>"
            ]
          },
          "metadata": {
            "tags": []
          }
        }
      ]
    },
    {
      "cell_type": "markdown",
      "metadata": {
        "id": "FZtK62UFaLEd",
        "colab_type": "text"
      },
      "source": [
        "So now we see what's going on! We have written an algorithm that manages to gradually reduce the value of the cost function, moving closer and closer to its minimum value.\n",
        "\n",
        "**Question**: Why does the value of the cost function decrease rapidly in the first 10 iterations and then decreases more slowly?\n",
        "\n",
        "\n",
        "**Question**: What would happen if we picked a learning rate 𝛼 that was too large?\n"
      ]
    },
    {
      "cell_type": "code",
      "metadata": {
        "id": "iF4Fa36zaLEd",
        "colab_type": "code",
        "colab": {
          "base_uri": "https://localhost:8080/",
          "height": 329
        },
        "outputId": "2039c83c-641e-4d43-8724-7ece825fcc90"
      },
      "source": [
        "alpha = 0.1\n",
        "w = 1\n",
        "b = 8\n",
        "cost_function_values = []\n",
        "for iteration in range(80):\n",
        "    cost_function_values.append(J(w, b))\n",
        "    w = w - alpha * dJ_dw(w, b)\n",
        "    b = b - alpha * dJ_db(w, b)\n",
        "    \n",
        "print(\"Final value of w is {}\".format(w))\n",
        "print(\"Final value of b is {}\".format(b))\n",
        "\n",
        "# Plotting the cost as iterations increase\n",
        "y_axis = cost_function_values\n",
        "x_axis = range(len(cost_function_values))\n",
        "plt.plot(x_axis, y_axis)\n",
        "# Plot x axis ticks\n",
        "#plt.xticks(x_axis)\n",
        "# Label the axes\n",
        "plt.ylabel('Cost')\n",
        "plt.xlabel('iteration')\n",
        "plt.show()"
      ],
      "execution_count": 23,
      "outputs": [
        {
          "output_type": "stream",
          "text": [
            "Final value of w is -49069.610980773345\n",
            "Final value of b is 176662.19953077816\n"
          ],
          "name": "stdout"
        },
        {
          "output_type": "display_data",
          "data": {
            "image/png": "[encoded data removed]",
            "text/plain": [
              "<Figure size 432x288 with 1 Axes>"
            ]
          },
          "metadata": {
            "tags": []
          }
        }
      ]
    },
    {
      "cell_type": "markdown",
      "metadata": {
        "id": "YOg5SAQ6aLEg",
        "colab_type": "text"
      },
      "source": [
        "## What just happened?\n",
        "\n",
        "1. We started of with the intuition that we needed a way to measure how far away our prediction was from the actual value.\n",
        "2. Based on the intuition, we defined a **_loss function_** that measured how far a prediction was for a single data-point (row) in our data set.\n",
        "3. Then we realised what we wanted was a measure of **_loss_** across the whole dataset.\n",
        "4. So, then we defined a **_cost function_** as a simple average of the **_loss_** across the whole dataset.\n",
        "5. We then used some mathematics to figure out the gradient of the **_cost function_** with respect to **_w_** and **_b_**\n",
        "6. Then we used the gradient to iteratively update **_w_** and **_b_** until they **_converged_** to their optimal values.\n",
        "7. We examined the effect of having a learning rate **_𝛼_** that is too large.\n",
        "\n",
        "## But a house doesn't just have bedrooms!\n",
        "\n",
        "This was really a toy problem to illustrate how the basic gradient descent algorithm works. We used a bit of mathematics to illustrate the fundamentals. \n",
        "\n",
        "Fortunately for us, we don't need to define derivative functions to solve these type of problems. There are libraries that can do this for us!\n",
        "\n",
        "In the next section, we will look at more complex formulations and how libraries can help us!"
      ]
    },
    {
      "cell_type": "code",
      "metadata": {
        "id": "q917DHIpaLEh",
        "colab_type": "code",
        "colab": {}
      },
      "source": [
        ""
      ],
      "execution_count": 0,
      "outputs": []
    }
  ]
}